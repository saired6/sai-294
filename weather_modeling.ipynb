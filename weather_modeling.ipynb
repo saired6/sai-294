{
  "nbformat": 4,
  "nbformat_minor": 0,
  "metadata": {
    "colab": {
      "provenance": [],
      "authorship_tag": "ABX9TyNLmO8sWaiFaDCv2pZeaeGJ",
      "include_colab_link": true
    },
    "kernelspec": {
      "name": "python3",
      "display_name": "Python 3"
    },
    "language_info": {
      "name": "python"
    }
  },
  "cells": [
    {
      "cell_type": "markdown",
      "metadata": {
        "id": "view-in-github",
        "colab_type": "text"
      },
      "source": [
        "<a href=\"https://colab.research.google.com/github/saired6/sai-294/blob/main/weather_modeling.ipynb\" target=\"_parent\"><img src=\"https://colab.research.google.com/assets/colab-badge.svg\" alt=\"Open In Colab\"/></a>"
      ]
    },
    {
      "cell_type": "code",
      "execution_count": null,
      "metadata": {
        "colab": {
          "base_uri": "https://localhost:8080/"
        },
        "id": "F0pp_ambmc4J",
        "outputId": "8852026d-88ae-48ea-ec8d-4f97ff0e6727"
      },
      "outputs": [
        {
          "output_type": "stream",
          "name": "stdout",
          "text": [
            "\n",
            "Using the formula:\n",
            "w = (0.5 * t^2 - 0.2 * h - 15) / 0.9\n",
            "File input -> Temperature: 100.0, Humidity: 80.0, Weather Index: 5521.11\n"
          ]
        }
      ],
      "source": [
        "#single\n",
        "def calculate_weather_index(t, h):\n",
        "    return (0.5 * t**2 - 0.2 * h - 15) / 0.9\n",
        "\n",
        "filename = 'single.txt'\n",
        "\n",
        "try:\n",
        "    with open(filename, 'r') as file:\n",
        "        line = file.readline().strip()\n",
        "        t, h = map(float, line.split())\n",
        "        w = calculate_weather_index(t, h)\n",
        "        print(\"\\nUsing the formula:\")\n",
        "        print(\"w = (0.5 * t^2 - 0.2 * h - 15) / 0.9\")\n",
        "        print(f\"File input -> Temperature: {t}, Humidity: {h}, Weather Index: {w:.2f}\")\n",
        "except Exception as e:\n",
        "    print(f\"Error reading the file: {e}\")\n"
      ]
    },
    {
      "cell_type": "code",
      "source": [
        "#hardcoding\n",
        "def calculate_w(t, h):\n",
        "    return (0.5 * t**2 - 0.2 * h - 15) / 0.9\n",
        "\n",
        "def main():\n",
        "    print(\"\\nUsing the formula:\")\n",
        "    print(\"w = (0.5 * t^2 - 0.2 * h - 15) / 0.9\")\n",
        "    print(\"\\nEnter the temperature and humidity:\")\n",
        "    temperature = 20\n",
        "    humidity = 60\n",
        "\n",
        "    w = calculate_w(temperature, humidity)\n",
        "    print(f\"\\nFor Temperature: {temperature}°C and Humidity: {humidity}%\")\n",
        "    print(f\"Calculated w: {w}\")\n",
        "\n",
        "if __name__ == \"__main__\":\n",
        "    main()\n"
      ],
      "metadata": {
        "colab": {
          "base_uri": "https://localhost:8080/"
        },
        "id": "bswI8mhAoRpK",
        "outputId": "535b30a8-f70a-404e-b85f-5ba5e3a0f637"
      },
      "execution_count": null,
      "outputs": [
        {
          "output_type": "stream",
          "name": "stdout",
          "text": [
            "\n",
            "Using the formula:\n",
            "w = (0.5 * t^2 - 0.2 * h - 15) / 0.9\n",
            "\n",
            "Enter the temperature and humidity:\n",
            "\n",
            "For Temperature: 20°C and Humidity: 60%\n",
            "Calculated w: 192.22222222222223\n"
          ]
        }
      ]
    },
    {
      "cell_type": "code",
      "source": [
        "#mutliple\n",
        "\n",
        "def calculate_weather_index(t, h):\n",
        "\n",
        "    return (0.5 * t**2 - 0.2 * h - 15) / 0.9\n",
        "\n",
        "\n",
        "def multiple_inputs_file_solution(filename):\n",
        "    try:\n",
        "        with open(filename, 'r') as file:\n",
        "            print(\"\\nMultiple Inputs from File:\")\n",
        "            for i, line in enumerate(file, start=1):\n",
        "                line = line.strip()\n",
        "                if not line:\n",
        "                    continue\n",
        "                t, h = map(float, line.split())\n",
        "                w = calculate_weather_index(t, h)\n",
        "                print(f\"Temperature: {t}, Humidity: {h}, Weather Index: {w:.2f}\")\n",
        "    except Exception as e:\n",
        "        print(f\"Error reading the file: {e}\")\n",
        "\n",
        "\n",
        "filename = r'mutliple.txt'\n",
        "multiple_inputs_file_solution(filename)\n"
      ],
      "metadata": {
        "colab": {
          "base_uri": "https://localhost:8080/"
        },
        "id": "t1XYURUwof0y",
        "outputId": "5cda6536-46d1-4b9e-f713-a5ede127c6ab"
      },
      "execution_count": null,
      "outputs": [
        {
          "output_type": "stream",
          "name": "stdout",
          "text": [
            "\n",
            "Multiple Inputs from File:\n",
            "Temperature: 30.0, Humidity: 58.0, Weather Index: 470.44\n",
            "Temperature: 35.0, Humidity: 65.0, Weather Index: 649.44\n",
            "Temperature: 45.0, Humidity: 55.0, Weather Index: 1096.11\n"
          ]
        }
      ]
    },
    {
      "cell_type": "code",
      "source": [
        "#keyboard\n",
        "def calculate_w(t, h):\n",
        "    return (0.5 * t**2 - 0.2 * h - 15) / 0.9\n",
        "\n",
        "def main():\n",
        "    print(\"\\nUsing the formula:\")\n",
        "    print(\"w = (0.5 * t^2 - 0.2 * h - 15) / 0.9\")\n",
        "\n",
        "    while True:\n",
        "        try:\n",
        "            temperature = float(input(\"Enter temperature in °C: \"))\n",
        "            humidity = float(input(\"Enter humidity in %: \"))\n",
        "            if 0 <= humidity <= 100:\n",
        "                break\n",
        "            else:\n",
        "                print(\"Humidity must be between 0% and 100%.\")\n",
        "        except ValueError:\n",
        "            print(\"Invalid input. Please enter a number.\")\n",
        "\n",
        "    w = calculate_w(temperature, humidity)\n",
        "    print(f\"\\nFor Temperature: {temperature}°C and Humidity: {humidity}%\")\n",
        "    print(f\"Calculated w: {w}\")\n",
        "\n",
        "if __name__ == \"__main__\":\n",
        "    main()\n"
      ],
      "metadata": {
        "colab": {
          "base_uri": "https://localhost:8080/"
        },
        "id": "wu0_fDlkn9yR",
        "outputId": "de327582-c623-48e8-f202-6394fdb55ace"
      },
      "execution_count": null,
      "outputs": [
        {
          "output_type": "stream",
          "name": "stdout",
          "text": [
            "\n",
            "Using the formula:\n",
            "w = (0.5 * t^2 - 0.2 * h - 15) / 0.9\n",
            "Enter temperature in °C: 100\n",
            "Enter humidity in %: 80\n",
            "\n",
            "For Temperature: 100.0°C and Humidity: 80.0%\n",
            "Calculated w: 5521.111111111111\n"
          ]
        }
      ]
    }
  ]
}